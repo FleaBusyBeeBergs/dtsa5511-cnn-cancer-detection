{
 "cells": [
  {
   "cell_type": "code",
   "execution_count": 8,
   "id": "55def0ff-5ce2-4e3b-af29-b4d23234ab7b",
   "metadata": {},
   "outputs": [],
   "source": [
    "import pandas as pd\n",
    "import os"
   ]
  },
  {
   "cell_type": "code",
   "execution_count": 6,
   "id": "30740460-9326-48d0-afa4-c3f8912adc79",
   "metadata": {},
   "outputs": [
    {
     "name": "stdout",
     "output_type": "stream",
     "text": [
      "<class 'pandas.core.frame.DataFrame'>\n",
      "RangeIndex: 220025 entries, 0 to 220024\n",
      "Data columns (total 2 columns):\n",
      " #   Column  Non-Null Count   Dtype \n",
      "---  ------  --------------   ----- \n",
      " 0   id      220025 non-null  object\n",
      " 1   label   220025 non-null  int64 \n",
      "dtypes: int64(1), object(1)\n",
      "memory usage: 3.4+ MB\n"
     ]
    }
   ],
   "source": [
    "# read in training labels\n",
    "\n",
    "df = pd.read_csv('data/train_labels.csv')\n",
    "df.head()\n",
    "df.info()"
   ]
  },
  {
   "cell_type": "code",
   "execution_count": 9,
   "id": "cb13af8b-e057-4a7d-9256-2c1422513e5b",
   "metadata": {},
   "outputs": [
    {
     "data": {
      "text/html": [
       "<div>\n",
       "<style scoped>\n",
       "    .dataframe tbody tr th:only-of-type {\n",
       "        vertical-align: middle;\n",
       "    }\n",
       "\n",
       "    .dataframe tbody tr th {\n",
       "        vertical-align: top;\n",
       "    }\n",
       "\n",
       "    .dataframe thead th {\n",
       "        text-align: right;\n",
       "    }\n",
       "</style>\n",
       "<table border=\"1\" class=\"dataframe\">\n",
       "  <thead>\n",
       "    <tr style=\"text-align: right;\">\n",
       "      <th></th>\n",
       "      <th>id</th>\n",
       "      <th>label</th>\n",
       "      <th>path</th>\n",
       "    </tr>\n",
       "  </thead>\n",
       "  <tbody>\n",
       "    <tr>\n",
       "      <th>0</th>\n",
       "      <td>c49aa322df7d43eedf267bbd31292c6fb9974418</td>\n",
       "      <td>0</td>\n",
       "      <td>/kaggle/input/histopathologic-cancer-detection...</td>\n",
       "    </tr>\n",
       "    <tr>\n",
       "      <th>1</th>\n",
       "      <td>e0b86d66a79ee5fa0c1bdfef8f4fcc414244b63c</td>\n",
       "      <td>0</td>\n",
       "      <td>/kaggle/input/histopathologic-cancer-detection...</td>\n",
       "    </tr>\n",
       "    <tr>\n",
       "      <th>2</th>\n",
       "      <td>7f2dfc21777d22d881f97f7ed29d6350c7bd25f1</td>\n",
       "      <td>0</td>\n",
       "      <td>/kaggle/input/histopathologic-cancer-detection...</td>\n",
       "    </tr>\n",
       "  </tbody>\n",
       "</table>\n",
       "</div>"
      ],
      "text/plain": [
       "                                         id  label  \\\n",
       "0  c49aa322df7d43eedf267bbd31292c6fb9974418      0   \n",
       "1  e0b86d66a79ee5fa0c1bdfef8f4fcc414244b63c      0   \n",
       "2  7f2dfc21777d22d881f97f7ed29d6350c7bd25f1      0   \n",
       "\n",
       "                                                path  \n",
       "0  /kaggle/input/histopathologic-cancer-detection...  \n",
       "1  /kaggle/input/histopathologic-cancer-detection...  \n",
       "2  /kaggle/input/histopathologic-cancer-detection...  "
      ]
     },
     "execution_count": 9,
     "metadata": {},
     "output_type": "execute_result"
    }
   ],
   "source": [
    "# sample equal number of positice and negative labels\n",
    "df_neg = df[df['label'] == 0].sample(n = 10000, random_state = 5511)\n",
    "df_pos = df[df['label'] == 1].sample(n = 10000, random_state = 5511)\n",
    "\n",
    "# concat neg and pos\n",
    "df_sample = pd.concat([df_neg, df_pos], ignore_index = True)\n",
    "\n",
    "# add file path column\n",
    "df_sample['path'] = df_sample['id'].apply(lambda x: os.path.join('/kaggle/input/histopathologic-cancer-detection/train', str(x) + '.tif'))\n",
    "\n",
    "# did it work?\n",
    "df_sample.head(3)"
   ]
  }
 ],
 "metadata": {
  "kernelspec": {
   "display_name": "Python 3 (ipykernel)",
   "language": "python",
   "name": "python3"
  },
  "language_info": {
   "codemirror_mode": {
    "name": "ipython",
    "version": 3
   },
   "file_extension": ".py",
   "mimetype": "text/x-python",
   "name": "python",
   "nbconvert_exporter": "python",
   "pygments_lexer": "ipython3",
   "version": "3.12.3"
  }
 },
 "nbformat": 4,
 "nbformat_minor": 5
}
