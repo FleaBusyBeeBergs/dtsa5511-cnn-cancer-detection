{
 "cells": [
  {
   "cell_type": "markdown",
   "id": "714e3a02-2f2b-4a47-b591-3695c6eee849",
   "metadata": {},
   "source": [
    "# Cancer detection using CNN"
   ]
  },
  {
   "cell_type": "markdown",
   "id": "d570b8d6-9bc9-4fa2-a694-a93496572241",
   "metadata": {},
   "source": [
    "## Introduction"
   ]
  },
  {
   "cell_type": "code",
   "execution_count": 1,
   "id": "de83c8c0-635d-4122-a316-7b9804d44f85",
   "metadata": {},
   "outputs": [
    {
     "ename": "ModuleNotFoundError",
     "evalue": "No module named 'keras'",
     "output_type": "error",
     "traceback": [
      "\u001b[1;31m---------------------------------------------------------------------------\u001b[0m",
      "\u001b[1;31mModuleNotFoundError\u001b[0m                       Traceback (most recent call last)",
      "Cell \u001b[1;32mIn[1], line 3\u001b[0m\n\u001b[0;32m      1\u001b[0m \u001b[38;5;28;01mimport\u001b[39;00m \u001b[38;5;21;01mpandas\u001b[39;00m \u001b[38;5;28;01mas\u001b[39;00m \u001b[38;5;21;01mpd\u001b[39;00m\n\u001b[0;32m      2\u001b[0m \u001b[38;5;28;01mimport\u001b[39;00m \u001b[38;5;21;01mnumpy\u001b[39;00m \u001b[38;5;28;01mas\u001b[39;00m \u001b[38;5;21;01mnp\u001b[39;00m\n\u001b[1;32m----> 3\u001b[0m \u001b[38;5;28;01mimport\u001b[39;00m \u001b[38;5;21;01mkeras\u001b[39;00m\n",
      "\u001b[1;31mModuleNotFoundError\u001b[0m: No module named 'keras'"
     ]
    }
   ],
   "source": [
    "import pandas as pd\n",
    "import numpy as np\n",
    "import keras"
   ]
  },
  {
   "cell_type": "markdown",
   "id": "79e3ebc2-d7e5-4571-8e5c-c78f8c8f6d6a",
   "metadata": {},
   "source": [
    "### The Problem"
   ]
  },
  {
   "cell_type": "markdown",
   "id": "da6f0793-a444-4003-bab3-879638c94e29",
   "metadata": {},
   "source": [
    "Briefly describe the challenge problem and NLP."
   ]
  },
  {
   "cell_type": "markdown",
   "id": "619b9273-a500-46e5-abfb-c77826d850e8",
   "metadata": {},
   "source": [
    "### The Data"
   ]
  },
  {
   "cell_type": "markdown",
   "id": "3491c547-0a26-4f1a-9f89-15d35443196b",
   "metadata": {},
   "source": [
    "Describe the size, dimension, structure, etc., of the data. "
   ]
  },
  {
   "cell_type": "markdown",
   "id": "941a4753-4cc2-4e81-8c61-e6f50c179563",
   "metadata": {},
   "source": [
    "## EDA"
   ]
  },
  {
   "cell_type": "markdown",
   "id": "97b3ee89-d70d-49a3-8107-4d70c682e29d",
   "metadata": {},
   "source": [
    "Show a few visualizations like histograms. Describe any data cleaning procedures. Based on your EDA, what is your plan of analysis? "
   ]
  },
  {
   "cell_type": "markdown",
   "id": "358d878d-3b2d-4cb3-a985-d44e1cbf7856",
   "metadata": {},
   "source": [
    "## Architecture"
   ]
  },
  {
   "cell_type": "markdown",
   "id": "1cda1a95-bc2a-4362-a18c-90d0d2b1b166",
   "metadata": {},
   "source": [
    "Describe your model architecture and reasoning for why you believe that specific architecture would be suitable for this problem. Compare multiple architectures and tune hyperparameters. "
   ]
  },
  {
   "cell_type": "markdown",
   "id": "0373b55f-9048-4298-8f7a-43ba4bb62fec",
   "metadata": {},
   "source": [
    "## Results and Analysis"
   ]
  },
  {
   "cell_type": "markdown",
   "id": "4f1b9f6f-3042-426e-b98e-e2fe3d58e3ce",
   "metadata": {},
   "source": [
    "## Conclusion"
   ]
  },
  {
   "cell_type": "markdown",
   "id": "4ec5aaf6-d5be-4ccc-9903-3a6e9da6c4ab",
   "metadata": {},
   "source": [
    "Discuss and interpret results as well as learnings and takeaways. What did and did not help improve the performance of your models? What improvements could you try in the future?"
   ]
  },
  {
   "cell_type": "code",
   "execution_count": null,
   "id": "f0cae251-5b64-49ef-a7d6-7e39edc0bcdb",
   "metadata": {},
   "outputs": [],
   "source": []
  }
 ],
 "metadata": {
  "kernelspec": {
   "display_name": "Python 3 (ipykernel)",
   "language": "python",
   "name": "python3"
  },
  "language_info": {
   "codemirror_mode": {
    "name": "ipython",
    "version": 3
   },
   "file_extension": ".py",
   "mimetype": "text/x-python",
   "name": "python",
   "nbconvert_exporter": "python",
   "pygments_lexer": "ipython3",
   "version": "3.12.3"
  }
 },
 "nbformat": 4,
 "nbformat_minor": 5
}
