{
 "cells": [
  {
   "cell_type": "markdown",
   "id": "714e3a02-2f2b-4a47-b591-3695c6eee849",
   "metadata": {},
   "source": [
    "# Cancer detection using CNN"
   ]
  },
  {
   "cell_type": "markdown",
   "id": "d570b8d6-9bc9-4fa2-a694-a93496572241",
   "metadata": {},
   "source": [
    "## Introduction"
   ]
  },
  {
   "cell_type": "code",
   "execution_count": 7,
   "id": "de83c8c0-635d-4122-a316-7b9804d44f85",
   "metadata": {},
   "outputs": [],
   "source": [
    "import pandas as pd\n",
    "import numpy as np\n",
    "import tensorflow as tf\n",
    "import keras\n",
    "\n",
    "from keras.models import Sequential\n",
    "from keras.layers import Dense, Activation\n"
   ]
  },
  {
   "cell_type": "markdown",
   "id": "79e3ebc2-d7e5-4571-8e5c-c78f8c8f6d6a",
   "metadata": {},
   "source": [
    "### The Problem"
   ]
  },
  {
   "cell_type": "markdown",
   "id": "da6f0793-a444-4003-bab3-879638c94e29",
   "metadata": {},
   "source": [
    "Briefly describe the challenge problem and NLP.\n",
    "\n",
    "The purpose of this project is to participate in a (now closed) Kaggle competition [Histopathologic Cancer Detection](https://www.kaggle.com/competitions/histopathologic-cancer-detection) by creating an algorithm to classify metastatic cancer cells in small images taken from larger digital pathology scans. The Kaggle site describes this data as \n",
    "\" a slightly modified version of the [PatchCamelyon (PCam) benchmark dataset](https://github.com/basveeling/pcam) (the original PCam dataset contains duplicate images due to its probabilistic sampling, however, the version presented on Kaggle does not contain duplicates).\""
   ]
  },
  {
   "cell_type": "markdown",
   "id": "619b9273-a500-46e5-abfb-c77826d850e8",
   "metadata": {},
   "source": [
    "### The Data"
   ]
  },
  {
   "cell_type": "markdown",
   "id": "3491c547-0a26-4f1a-9f89-15d35443196b",
   "metadata": {},
   "source": [
    "Describe the size, dimension, structure, etc., of the data. "
   ]
  },
  {
   "cell_type": "markdown",
   "id": "941a4753-4cc2-4e81-8c61-e6f50c179563",
   "metadata": {},
   "source": [
    "## EDA"
   ]
  },
  {
   "cell_type": "markdown",
   "id": "97b3ee89-d70d-49a3-8107-4d70c682e29d",
   "metadata": {},
   "source": [
    "Show a few visualizations like histograms. Describe any data cleaning procedures. Based on your EDA, what is your plan of analysis? "
   ]
  },
  {
   "cell_type": "markdown",
   "id": "358d878d-3b2d-4cb3-a985-d44e1cbf7856",
   "metadata": {},
   "source": [
    "## Architecture"
   ]
  },
  {
   "cell_type": "markdown",
   "id": "1cda1a95-bc2a-4362-a18c-90d0d2b1b166",
   "metadata": {},
   "source": [
    "Describe your model architecture and reasoning for why you believe that specific architecture would be suitable for this problem. Compare multiple architectures and tune hyperparameters. "
   ]
  },
  {
   "cell_type": "markdown",
   "id": "0373b55f-9048-4298-8f7a-43ba4bb62fec",
   "metadata": {},
   "source": [
    "## Results and Analysis"
   ]
  },
  {
   "cell_type": "markdown",
   "id": "b10f42ca-276b-4b65-88de-aefa348d4fdb",
   "metadata": {},
   "source": [
    "### Kaggle competition ranking"
   ]
  },
  {
   "cell_type": "markdown",
   "id": "796f6630-3a59-4d41-9349-08844b203595",
   "metadata": {},
   "source": [
    "Submission file .csv format:\n",
    "\n",
    "id,label\n",
    "0b2ea2a822ad23fdb1b5dd26653da899fbd2c0d5,0\n",
    "95596b92e5066c5c52466c90b69ff089b39f2737,0\n",
    "248e6738860e2ebcf6258cdc1f32f299e0c76914,0\n",
    "etc."
   ]
  },
  {
   "cell_type": "markdown",
   "id": "4f1b9f6f-3042-426e-b98e-e2fe3d58e3ce",
   "metadata": {},
   "source": [
    "## Conclusion"
   ]
  },
  {
   "cell_type": "markdown",
   "id": "4ec5aaf6-d5be-4ccc-9903-3a6e9da6c4ab",
   "metadata": {},
   "source": [
    "Discuss and interpret results as well as learnings and takeaways. What did and did not help improve the performance of your models? What improvements could you try in the future?"
   ]
  },
  {
   "cell_type": "markdown",
   "id": "0fad9587-9b2a-4bc2-b23d-3a0e049b60de",
   "metadata": {},
   "source": [
    "## References"
   ]
  },
  {
   "cell_type": "markdown",
   "id": "ffba1b20-6b5c-450b-bfd4-33f351e53923",
   "metadata": {},
   "source": [
    "1. "
   ]
  }
 ],
 "metadata": {
  "kernelspec": {
   "display_name": "Python 3 (ipykernel)",
   "language": "python",
   "name": "python3"
  },
  "language_info": {
   "codemirror_mode": {
    "name": "ipython",
    "version": 3
   },
   "file_extension": ".py",
   "mimetype": "text/x-python",
   "name": "python",
   "nbconvert_exporter": "python",
   "pygments_lexer": "ipython3",
   "version": "3.12.3"
  }
 },
 "nbformat": 4,
 "nbformat_minor": 5
}
